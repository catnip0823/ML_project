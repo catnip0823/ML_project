{
 "cells": [
  {
   "cell_type": "code",
   "execution_count": 1,
   "metadata": {},
   "outputs": [],
   "source": [
    "import random\n",
    "import functions\n",
    "from sklearn import preprocessing\n",
    "test_size = 80\n",
    "test_list = random.sample(range(0, 500), test_size)\n",
    "test_list.sort()"
   ]
  },
  {
   "cell_type": "code",
   "execution_count": 2,
   "metadata": {},
   "outputs": [],
   "source": [
    "import csv\n",
    "\n",
    "train_matrix = []\n",
    "test_matrix = []\n",
    "train_label = []\n",
    "test_label = []\n",
    "\n",
    "with open('dataset/Admission_Predict_data/Admission_Predict_Ver1.1.csv', encoding='utf-8') as f:\n",
    "    reader = csv.reader(f)\n",
    "    header = next(reader) # title\n",
    "    index_test_list = 0\n",
    "    index_row_list = 0\n",
    "    for row in reader:\n",
    "        train_row = []\n",
    "        for i in range(1, len(row) - 1):\n",
    "            train_row.append(float(row[i]))\n",
    "        test_row = float(row[-1])\n",
    "#         test_row = int(round(test_row * 10))\n",
    "        \n",
    "        if index_test_list < test_size and test_list[index_test_list] == index_row_list:\n",
    "            test_matrix.append(train_row)\n",
    "            test_label.append(test_row)\n",
    "            index_test_list += 1\n",
    "        else:\n",
    "            train_matrix.append(train_row)\n",
    "            train_label.append(test_row)\n",
    "        index_row_list += 1\n",
    "        "
   ]
  },
  {
   "cell_type": "code",
   "execution_count": 3,
   "metadata": {},
   "outputs": [],
   "source": [
    "import numpy as np\n",
    "x = np.array(train_matrix)\n",
    "x = preprocessing.scale(x) # normalize\n",
    "y = np.array(train_label)\n",
    "x_test = np.array(test_matrix)\n",
    "x_test = preprocessing.scale(x_test) # normalize"
   ]
  },
  {
   "cell_type": "code",
   "execution_count": 4,
   "metadata": {},
   "outputs": [],
   "source": [
    "from sklearn.model_selection import KFold\n",
    "\n",
    "def cross_val(data, label, model):\n",
    "    kfold = KFold(n_splits = 5, shuffle = False)\n",
    "    index = kfold.split(X = data, y = label)\n",
    "    cross_val_error = []\n",
    "    for train_index, test_index in index:\n",
    "        model.fit(data[train_index], label[train_index]) # train\n",
    "        y_pred = model.predict(data[test_index]) # predict\n",
    "        error = functions.RSS(y_pred, label[test_index]) # error\n",
    "        cross_val_error.append(error)\n",
    "    exp_error = sum(cross_val_error)/len(cross_val_error)\n",
    "    return exp_error"
   ]
  },
  {
   "cell_type": "code",
   "execution_count": 5,
   "metadata": {},
   "outputs": [
    {
     "name": "stdout",
     "output_type": "stream",
     "text": [
      "AdaBoost min error: 0.3951238249218282\n",
      "min time: 11035\n"
     ]
    }
   ],
   "source": [
    "from sklearn.ensemble import AdaBoostRegressor\n",
    "import datetime\n",
    "estimators = np.linspace(1, 60, 60)\n",
    "error = []\n",
    "time = []\n",
    "for i in estimators:\n",
    "    starttime = datetime.datetime.now()\n",
    "    clf = AdaBoostRegressor(n_estimators=int(i))\n",
    "    error.append(cross_val(x, y, clf))\n",
    "    endtime = datetime.datetime.now()\n",
    "    time.append((endtime - starttime).microseconds)\n",
    "print('AdaBoost min error:', min(error))\n",
    "print('min time:', min(time))"
   ]
  },
  {
   "cell_type": "code",
   "execution_count": 7,
   "metadata": {},
   "outputs": [
    {
     "name": "stdout",
     "output_type": "stream",
     "text": [
      "0.6836388846327185\n"
     ]
    }
   ],
   "source": [
    "from sklearn.metrics import r2_score\n",
    "kfold = KFold(n_splits = 5, shuffle = False)\n",
    "index = kfold.split(X = x, y = y)\n",
    "clf = AdaBoostRegressor(n_estimators=int(estimators[error.index(min(error))]))\n",
    "accuracy = []\n",
    "for train_index, test_index in index:\n",
    "    clf.fit(x[train_index], y[train_index]) # train\n",
    "    y_pred = clf.predict(x[test_index]) # predict\n",
    "    accuracy.append(r2_score(y_pred, y[test_index]))\n",
    "print(sum(accuracy)/len(accuracy))"
   ]
  },
  {
   "cell_type": "code",
   "execution_count": 10,
   "metadata": {},
   "outputs": [
    {
     "name": "stdout",
     "output_type": "stream",
     "text": [
      "min error: 0.3951238249218282\n",
      "estimators when at min error: 10.0\n"
     ]
    },
    {
     "data": {
      "image/png": "[encoded data removed]",
      "text/plain": [
       "<Figure size 432x288 with 1 Axes>"
      ]
     },
     "metadata": {
      "needs_background": "light"
     },
     "output_type": "display_data"
    }
   ],
   "source": [
    "import matplotlib.pyplot as plt\n",
    "import math\n",
    "print('min error:', min(error))\n",
    "print('estimators when at min error:', estimators[error.index(min(error))])\n",
    "plt.scatter(estimators, error)\n",
    "plt.xlim((0, 60))\n",
    "plt.ylim((min(error), max(error)))\n",
    "plt.scatter(estimators[error.index(min(error))], min(error), c = 'r', s = 100)\n",
    "plt.xlabel('parameter n_estimators')\n",
    "plt.ylabel('Residual Sum-of-Squares')\n",
    "plt.show()"
   ]
  },
  {
   "cell_type": "code",
   "execution_count": 12,
   "metadata": {},
   "outputs": [
    {
     "name": "stdout",
     "output_type": "stream",
     "text": [
      "min time: 11035\n",
      "estimators when at min time: 1.0\n"
     ]
    },
    {
     "data": {
      "image/png": "[encoded data removed]",
      "text/plain": [
       "<Figure size 432x288 with 1 Axes>"
      ]
     },
     "metadata": {
      "needs_background": "light"
     },
     "output_type": "display_data"
    }
   ],
   "source": [
    "import matplotlib.pyplot as plt\n",
    "import math\n",
    "print('min time:', min(time))\n",
    "print('estimators when at min time:', estimators[time.index(min(time))])\n",
    "plt.scatter(estimators, time)\n",
    "plt.xlim((0, 60))\n",
    "plt.ylim((min(time), max(time)))\n",
    "plt.scatter(estimators[time.index(min(time))], min(time), c = 'r', s = 100)\n",
    "plt.xlabel('parameter n_estimators')\n",
    "plt.ylabel('time / microseconds')\n",
    "plt.show()"
   ]
  },
  {
   "cell_type": "code",
   "execution_count": null,
   "metadata": {},
   "outputs": [],
   "source": []
  }
 ],
 "metadata": {
  "kernelspec": {
   "display_name": "Python 3",
   "language": "python",
   "name": "python3"
  },
  "language_info": {
   "codemirror_mode": {
    "name": "ipython",
    "version": 3
   },
   "file_extension": ".py",
   "mimetype": "text/x-python",
   "name": "python",
   "nbconvert_exporter": "python",
   "pygments_lexer": "ipython3",
   "version": "3.7.5"
  }
 },
 "nbformat": 4,
 "nbformat_minor": 4
}
