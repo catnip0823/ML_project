{
 "cells": [
  {
   "cell_type": "code",
   "execution_count": 1,
   "metadata": {},
   "outputs": [],
   "source": [
    "import random\n",
    "from sklearn import preprocessing\n",
    "test_size = 80\n",
    "test_list = random.sample(range(0, 500), test_size)\n",
    "test_list.sort()"
   ]
  },
  {
   "cell_type": "code",
   "execution_count": 2,
   "metadata": {},
   "outputs": [],
   "source": [
    "import functions"
   ]
  },
  {
   "cell_type": "code",
   "execution_count": 3,
   "metadata": {},
   "outputs": [],
   "source": [
    "import csv\n",
    "\n",
    "train_matrix = []\n",
    "test_matrix = []\n",
    "train_label = []\n",
    "test_label = []\n",
    "\n",
    "with open('dataset/Admission_Predict_data/Admission_Predict_Ver1.1.csv', encoding='utf-8') as f:\n",
    "    reader = csv.reader(f)\n",
    "    header = next(reader) # title\n",
    "    index_test_list = 0\n",
    "    index_row_list = 0\n",
    "    for row in reader:\n",
    "        train_row = []\n",
    "        for i in range(1, len(row) - 1):\n",
    "            train_row.append(float(row[i]))\n",
    "        test_row = float(row[-1])\n",
    "        test_row = int(round(test_row * 10))\n",
    "        \n",
    "        if index_test_list < test_size and test_list[index_test_list] == index_row_list:\n",
    "            test_matrix.append(train_row)\n",
    "            test_label.append(test_row)\n",
    "            index_test_list += 1\n",
    "        else:\n",
    "            train_matrix.append(train_row)\n",
    "            train_label.append(test_row)\n",
    "        index_row_list += 1\n",
    "        "
   ]
  },
  {
   "cell_type": "markdown",
   "metadata": {},
   "source": [
    "## Linear Regression Model\n",
    "\n"
   ]
  },
  {
   "cell_type": "code",
   "execution_count": 4,
   "metadata": {},
   "outputs": [],
   "source": [
    "import numpy as np\n",
    "x = np.array(train_matrix)\n",
    "x = preprocessing.scale(x) # normalize\n",
    "y = np.array(train_label)\n",
    "x_test = np.array(test_matrix)\n",
    "x_test = preprocessing.scale(x_test) # normalize"
   ]
  },
  {
   "cell_type": "code",
   "execution_count": 5,
   "metadata": {},
   "outputs": [],
   "source": [
    "from sklearn.model_selection import KFold\n",
    "\n",
    "def cross_val(data, label, model):\n",
    "    kfold = KFold(n_splits = 5, shuffle = False)\n",
    "    index = kfold.split(X = data, y = label)\n",
    "    cross_val_error = []\n",
    "    for train_index, test_index in index:\n",
    "        model.fit(data[train_index], label[train_index]) # train\n",
    "        y_pred = model.predict(data[test_index]) # predict\n",
    "        error = functions.RSS(y_pred, label[test_index]) # error\n",
    "        cross_val_error.append(error)\n",
    "    exp_error = sum(cross_val_error)/len(cross_val_error)\n",
    "    return exp_error"
   ]
  },
  {
   "cell_type": "code",
   "execution_count": 19,
   "metadata": {},
   "outputs": [],
   "source": [
    "from sklearn import datasets, linear_model\n",
    "from sklearn import linear_model\n",
    "# define regression model\n",
    "regression_model = linear_model.LinearRegression()\n",
    "\n",
    "# method = 2 # 0 if regression, 1 if ridge, 2 if lasso\n",
    "\n",
    "def regression_functions(method):\n",
    "    if method == 0:\n",
    "        return cross_val(x, y, regression_model)\n",
    "    elif method == 1:\n",
    "        alpha = np.linspace(0.00000001, 0.05, 1000)\n",
    "        error = []\n",
    "        for a in alpha:\n",
    "            # define ridge model\n",
    "            reg = linear_model.Ridge(alpha = a)\n",
    "            error.append(cross_val(x, y, reg))\n",
    "        return alpha, error, min(error), max(error)\n",
    "    elif method == 2:\n",
    "        alpha = np.linspace(0.00000001, 0.05, 1000)\n",
    "        error = []\n",
    "        for a in alpha:\n",
    "            # define ridge model\n",
    "            reg = linear_model.Lasso(alpha = a)\n",
    "            error.append(cross_val(x, y, reg))\n",
    "        return alpha, error, min(error), max(error)"
   ]
  },
  {
   "cell_type": "code",
   "execution_count": 20,
   "metadata": {},
   "outputs": [],
   "source": [
    "for i in range(3):\n",
    "    output = regression_functions(i)\n",
    "    if i == 0:\n",
    "        regression_error = output\n",
    "    elif i == 1:\n",
    "        ridge_alpha = output[0]\n",
    "        ridge_error = output[1]\n",
    "        ridge_min_error = output[2]\n",
    "        ridge_max_error = output[3]\n",
    "    elif i == 2:\n",
    "        lasso_alpha = output[0]\n",
    "        lasso_error = output[1]\n",
    "        lasso_min_error = output[2]\n",
    "        lasso_max_error = output[3]"
   ]
  },
  {
   "cell_type": "code",
   "execution_count": 21,
   "metadata": {},
   "outputs": [
    {
     "data": {
      "image/png": "[encoded data removed]",
      "text/plain": [
       "<Figure size 432x288 with 1 Axes>"
      ]
     },
     "metadata": {
      "needs_background": "light"
     },
     "output_type": "display_data"
    },
    {
     "name": "stdout",
     "output_type": "stream",
     "text": [
      "min error without shrinkage: 38.011935118128044\n",
      "ridge min error: 38.011935118222425\n",
      "lasso min error: 37.801270398490075\n",
      "lasso parameter alpha: 0.008308316646646647\n"
     ]
    }
   ],
   "source": [
    "import matplotlib.pyplot as plt\n",
    "import math\n",
    "\n",
    "plt.scatter(ridge_alpha, ridge_error, label = \"ridge\")\n",
    "plt.scatter(lasso_alpha, lasso_error, label = \"lasso\")\n",
    "plt.scatter(0, regression_error, c = 'g', s = 80, label = \"without shrinkage\")\n",
    "plt.legend()\n",
    "plt.xlabel('parameter alpha')\n",
    "plt.ylabel('Residual Sum-of-Squares')\n",
    "plt.show()\n",
    "\n",
    "\n",
    "print('min error without shrinkage:', regression_error)\n",
    "print('ridge min error:', min(ridge_error))\n",
    "print('lasso min error:', min(lasso_error))\n",
    "print('lasso parameter alpha:', lasso_alpha[lasso_error.index(min(lasso_error))])\n"
   ]
  },
  {
   "cell_type": "code",
   "execution_count": null,
   "metadata": {},
   "outputs": [],
   "source": []
  }
 ],
 "metadata": {
  "kernelspec": {
   "display_name": "Python 3",
   "language": "python",
   "name": "python3"
  },
  "language_info": {
   "codemirror_mode": {
    "name": "ipython",
    "version": 3
   },
   "file_extension": ".py",
   "mimetype": "text/x-python",
   "name": "python",
   "nbconvert_exporter": "python",
   "pygments_lexer": "ipython3",
   "version": "3.7.4"
  }
 },
 "nbformat": 4,
 "nbformat_minor": 2
}
