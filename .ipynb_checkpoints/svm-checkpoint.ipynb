{
 "cells": [
  {
   "cell_type": "code",
   "execution_count": 2,
   "metadata": {},
   "outputs": [],
   "source": [
    "import random\n",
    "import functions\n",
    "from sklearn import preprocessing\n",
    "test_size = 80\n",
    "test_list = random.sample(range(0, 500), test_size)\n",
    "test_list.sort()"
   ]
  },
  {
   "cell_type": "code",
   "execution_count": 3,
   "metadata": {},
   "outputs": [],
   "source": [
    "import csv\n",
    "\n",
    "train_matrix = []\n",
    "test_matrix = []\n",
    "train_label = []\n",
    "test_label = []\n",
    "\n",
    "with open('dataset/Admission_Predict_data/Admission_Predict_Ver1.1.csv', encoding='utf-8') as f:\n",
    "    reader = csv.reader(f)\n",
    "    header = next(reader) # title\n",
    "    index_test_list = 0\n",
    "    index_row_list = 0\n",
    "    for row in reader:\n",
    "        train_row = []\n",
    "        for i in range(1, len(row) - 1):\n",
    "            train_row.append(float(row[i]))\n",
    "        test_row = float(row[-1])\n",
    "#         test_row = int(round(test_row * 10))\n",
    "        \n",
    "        if index_test_list < test_size and test_list[index_test_list] == index_row_list:\n",
    "            test_matrix.append(train_row)\n",
    "            test_label.append(test_row)\n",
    "            index_test_list += 1\n",
    "        else:\n",
    "            train_matrix.append(train_row)\n",
    "            train_label.append(test_row)\n",
    "        index_row_list += 1\n",
    "        "
   ]
  },
  {
   "cell_type": "markdown",
   "metadata": {},
   "source": [
    "## Linear Regression Model"
   ]
  },
  {
   "cell_type": "code",
   "execution_count": 4,
   "metadata": {},
   "outputs": [],
   "source": [
    "import numpy as np\n",
    "x = np.array(train_matrix)\n",
    "x = preprocessing.scale(x) # normalize\n",
    "y = np.array(train_label)\n",
    "x_test = np.array(test_matrix)\n",
    "x_test = preprocessing.scale(x_test) # normalize"
   ]
  },
  {
   "cell_type": "code",
   "execution_count": 5,
   "metadata": {},
   "outputs": [],
   "source": [
    "from sklearn.model_selection import KFold\n",
    "\n",
    "def cross_val(data, label, model):\n",
    "    kfold = KFold(n_splits = 5, shuffle = False)\n",
    "    index = kfold.split(X = data, y = label)\n",
    "    cross_val_error = []\n",
    "    for train_index, test_index in index:\n",
    "        model.fit(data[train_index], label[train_index]) # train\n",
    "        y_pred = model.predict(data[test_index]) # predict\n",
    "        error = functions.RSS(y_pred, label[test_index]) # error\n",
    "        cross_val_error.append(error)\n",
    "    exp_error = sum(cross_val_error)/len(cross_val_error)\n",
    "    return exp_error"
   ]
  },
  {
   "cell_type": "markdown",
   "metadata": {},
   "source": [
    "### no kernel SVM"
   ]
  },
  {
   "cell_type": "code",
   "execution_count": 6,
   "metadata": {},
   "outputs": [
    {
     "name": "stdout",
     "output_type": "stream",
     "text": [
      "min error without kernel: 0.5063657517686203\n"
     ]
    }
   ],
   "source": [
    "from sklearn import svm\n",
    "clf = svm.SVR(gamma = 'auto')\n",
    "print('min error without kernel:', cross_val(x, y, clf))"
   ]
  },
  {
   "cell_type": "markdown",
   "metadata": {},
   "source": [
    "### rbf kernel"
   ]
  },
  {
   "cell_type": "code",
   "execution_count": 7,
   "metadata": {},
   "outputs": [
    {
     "name": "stdout",
     "output_type": "stream",
     "text": [
      "min error with rbf kernel: 0.4348970142298634\n"
     ]
    }
   ],
   "source": [
    "gamma = np.linspace(0.0000001, 0.01, 200)\n",
    "error = []\n",
    "for i in gamma:\n",
    "    clf = svm.SVR(kernel = 'rbf', C = 1e3, gamma = float(i))\n",
    "    error.append(cross_val(x, y, clf))\n",
    "print('min error with rbf kernel:', min(error))"
   ]
  },
  {
   "cell_type": "code",
   "execution_count": 8,
   "metadata": {},
   "outputs": [
    {
     "name": "stdout",
     "output_type": "stream",
     "text": [
      "min error: 0.4348970142298634\n",
      "gamma when at min error: 5.035075376884423e-05\n"
     ]
    },
    {
     "data": {
      "image/png": "[encoded data removed]",
      "text/plain": [
       "<Figure size 432x288 with 1 Axes>"
      ]
     },
     "metadata": {
      "needs_background": "light"
     },
     "output_type": "display_data"
    }
   ],
   "source": [
    "import matplotlib.pyplot as plt\n",
    "import math\n",
    "print('min error:', min(error))\n",
    "print('gamma when at min error:', gamma[error.index(min(error))])\n",
    "plt.scatter(gamma, error)\n",
    "plt.xlim((0.0000001, 0.01))\n",
    "plt.ylim(min(error), max(error))\n",
    "plt.xlabel('parameter gamma')\n",
    "plt.ylabel('Residual Sum-of-Squares')\n",
    "plt.scatter(gamma[error.index(min(error))], min(error), c = 'r', s = 50)\n",
    "plt.show()"
   ]
  },
  {
   "cell_type": "code",
   "execution_count": 9,
   "metadata": {},
   "outputs": [
    {
     "name": "stdout",
     "output_type": "stream",
     "text": [
      "0.64286125371291\n"
     ]
    }
   ],
   "source": [
    "from sklearn.metrics import r2_score\n",
    "kfold = KFold(n_splits = 5, shuffle = False)\n",
    "index = kfold.split(X = x, y = y)\n",
    "clf = svm.SVR(kernel = 'rbf', C = 1e3, gamma = gamma[error.index(min(error))])\n",
    "accuracy = []\n",
    "for train_index, test_index in index:\n",
    "    clf.fit(x[train_index], y[train_index]) # train\n",
    "    y_pred = clf.predict(x[test_index]) # predict\n",
    "    accuracy.append(r2_score(y_pred, y[test_index]))\n",
    "print(sum(accuracy)/len(accuracy))   "
   ]
  },
  {
   "cell_type": "markdown",
   "metadata": {},
   "source": [
    "### linear kernel"
   ]
  },
  {
   "cell_type": "code",
   "execution_count": 10,
   "metadata": {},
   "outputs": [],
   "source": [
    "C = np.linspace(0.001, 1.5, 100)\n",
    "error = []\n",
    "for i in C:\n",
    "    clf = svm.SVR(kernel = 'linear', C = i)\n",
    "    error.append(cross_val(x, y, clf))"
   ]
  },
  {
   "cell_type": "code",
   "execution_count": 11,
   "metadata": {},
   "outputs": [
    {
     "name": "stdout",
     "output_type": "stream",
     "text": [
      "min error: 0.4221126574771238\n",
      "C when at min error: 0.33411111111111114\n"
     ]
    },
    {
     "data": {
      "image/png": "[encoded data removed]",
      "text/plain": [
       "<Figure size 432x288 with 1 Axes>"
      ]
     },
     "metadata": {
      "needs_background": "light"
     },
     "output_type": "display_data"
    }
   ],
   "source": [
    "import matplotlib.pyplot as plt\n",
    "import math\n",
    "print('min error:', min(error))\n",
    "print('C when at min error:', C[error.index(min(error))])\n",
    "plt.scatter(C, error)\n",
    "plt.xlim((0.001, 1.5))\n",
    "plt.ylim((min(error), 0.45))\n",
    "plt.xlabel('parameter C')\n",
    "plt.ylabel('Residual Sum-of-Squares')\n",
    "plt.scatter(C[error.index(min(error))], min(error), c = 'r', s = 50)\n",
    "plt.show()"
   ]
  },
  {
   "cell_type": "code",
   "execution_count": 12,
   "metadata": {},
   "outputs": [
    {
     "name": "stdout",
     "output_type": "stream",
     "text": [
      "0.6620266457889976\n"
     ]
    }
   ],
   "source": [
    "from sklearn.metrics import r2_score\n",
    "kfold = KFold(n_splits = 5, shuffle = False)\n",
    "index = kfold.split(X = x, y = y)\n",
    "clf = svm.SVR(kernel = 'linear', C = C[error.index(min(error))])\n",
    "accuracy = []\n",
    "for train_index, test_index in index:\n",
    "    clf.fit(x[train_index], y[train_index]) # train\n",
    "    y_pred = clf.predict(x[test_index]) # predict\n",
    "    accuracy.append(r2_score(y_pred, y[test_index]))\n",
    "print(sum(accuracy)/len(accuracy))   "
   ]
  },
  {
   "cell_type": "markdown",
   "metadata": {},
   "source": [
    "### poly kernel"
   ]
  },
  {
   "cell_type": "code",
   "execution_count": 13,
   "metadata": {},
   "outputs": [
    {
     "name": "stdout",
     "output_type": "stream",
     "text": [
      "min error with poly kernel: 0.42404233588643914\n"
     ]
    }
   ],
   "source": [
    "degree = np.linspace(0, 12, 13)\n",
    "error = []\n",
    "for i in degree:\n",
    "    clf = svm.SVR(kernel = 'poly', C = 1e6, degree = i, gamma = 0.000001)\n",
    "    error.append(cross_val(x, y, clf))\n",
    "print('min error with poly kernel:', min(error))"
   ]
  },
  {
   "cell_type": "code",
   "execution_count": 14,
   "metadata": {},
   "outputs": [
    {
     "name": "stdout",
     "output_type": "stream",
     "text": [
      "min error: 0.42404233588643914\n",
      "degree when at min error: 1.0\n"
     ]
    },
    {
     "data": {
      "image/png": "[encoded data removed]",
      "text/plain": [
       "<Figure size 432x288 with 1 Axes>"
      ]
     },
     "metadata": {
      "needs_background": "light"
     },
     "output_type": "display_data"
    }
   ],
   "source": [
    "print('min error:', min(error))\n",
    "print('degree when at min error:', degree[error.index(min(error))])\n",
    "plt.scatter(degree, error)\n",
    "plt.xlim((0, 12))\n",
    "plt.ylim((min(error), max(error)))\n",
    "plt.scatter(degree[error.index(min(error))], min(error), c = 'r', s = 100)\n",
    "plt.show()"
   ]
  },
  {
   "cell_type": "code",
   "execution_count": 15,
   "metadata": {},
   "outputs": [
    {
     "name": "stdout",
     "output_type": "stream",
     "text": [
      "0.6597955382988313\n"
     ]
    }
   ],
   "source": [
    "from sklearn.metrics import r2_score\n",
    "kfold = KFold(n_splits = 5, shuffle = False)\n",
    "index = kfold.split(X = x, y = y)\n",
    "clf = svm.SVR(kernel = 'poly', C = 1e6, degree = degree[error.index(min(error))], gamma = 0.000001)\n",
    "accuracy = []\n",
    "for train_index, test_index in index:\n",
    "    clf.fit(x[train_index], y[train_index]) # train\n",
    "    y_pred = clf.predict(x[test_index]) # predict\n",
    "    accuracy.append(r2_score(y_pred, y[test_index]))\n",
    "print(sum(accuracy)/len(accuracy))  "
   ]
  },
  {
   "cell_type": "code",
   "execution_count": null,
   "metadata": {},
   "outputs": [],
   "source": []
  }
 ],
 "metadata": {
  "kernelspec": {
   "display_name": "Python 3",
   "language": "python",
   "name": "python3"
  },
  "language_info": {
   "codemirror_mode": {
    "name": "ipython",
    "version": 3
   },
   "file_extension": ".py",
   "mimetype": "text/x-python",
   "name": "python",
   "nbconvert_exporter": "python",
   "pygments_lexer": "ipython3",
   "version": "3.7.5"
  }
 },
 "nbformat": 4,
 "nbformat_minor": 2
}
