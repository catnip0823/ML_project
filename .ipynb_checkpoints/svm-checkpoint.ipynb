{
 "cells": [
  {
   "cell_type": "code",
   "execution_count": 1,
   "metadata": {},
   "outputs": [],
   "source": [
    "import random\n",
    "import functions\n",
    "test_size = 80\n",
    "test_list = random.sample(range(0, 500), test_size)\n",
    "test_list.sort()"
   ]
  },
  {
   "cell_type": "code",
   "execution_count": 2,
   "metadata": {},
   "outputs": [],
   "source": [
    "import csv\n",
    "\n",
    "train_matrix = []\n",
    "test_matrix = []\n",
    "train_label = []\n",
    "test_label = []\n",
    "\n",
    "with open('dataset/Admission_Predict_data/Admission_Predict_Ver1.1.csv', encoding='utf-8') as f:\n",
    "    reader = csv.reader(f)\n",
    "    header = next(reader) # title\n",
    "    index_test_list = 0\n",
    "    index_row_list = 0\n",
    "    for row in reader:\n",
    "        train_row = []\n",
    "        for i in range(1, len(row) - 1):\n",
    "            train_row.append(float(row[i]))\n",
    "        test_row = float(row[-1])\n",
    "        test_row = int(round(test_row * 10))\n",
    "        \n",
    "        if index_test_list < test_size and test_list[index_test_list] == index_row_list:\n",
    "            test_matrix.append(train_row)\n",
    "            test_label.append(test_row)\n",
    "            index_test_list += 1\n",
    "        else:\n",
    "            train_matrix.append(train_row)\n",
    "            train_label.append(test_row)\n",
    "        index_row_list += 1\n",
    "        "
   ]
  },
  {
   "cell_type": "markdown",
   "metadata": {},
   "source": [
    "## Linear Regression Model"
   ]
  },
  {
   "cell_type": "code",
   "execution_count": 3,
   "metadata": {},
   "outputs": [],
   "source": [
    "import numpy as np\n",
    "x = np.array(train_matrix)\n",
    "y = np.array(train_label)\n",
    "x_test = np.array(test_matrix)"
   ]
  },
  {
   "cell_type": "code",
   "execution_count": 4,
   "metadata": {},
   "outputs": [],
   "source": [
    "from sklearn.model_selection import KFold\n",
    "\n",
    "def cross_val(data, label, model):\n",
    "    kfold = KFold(n_splits = 5, shuffle = False)\n",
    "    index = kfold.split(X = data, y = label)\n",
    "    cross_val_error = []\n",
    "    for train_index, test_index in index:\n",
    "        model.fit(data[train_index], label[train_index]) # train\n",
    "        y_pred = model.predict(data[test_index]) # predict\n",
    "        error = functions.RSS(y_pred, label[test_index]) # error\n",
    "        cross_val_error.append(error)\n",
    "    exp_error = sum(cross_val_error)/len(cross_val_error)\n",
    "    return exp_error"
   ]
  },
  {
   "cell_type": "markdown",
   "metadata": {},
   "source": [
    "### no kernel SVM"
   ]
  },
  {
   "cell_type": "code",
   "execution_count": 22,
   "metadata": {},
   "outputs": [
    {
     "name": "stdout",
     "output_type": "stream",
     "text": [
      "min error without kernel: 76.6\n"
     ]
    }
   ],
   "source": [
    "from sklearn import svm\n",
    "clf = svm.SVC(gamma = 'auto')\n",
    "print('min error without kernel:', cross_val(x, y, clf))"
   ]
  },
  {
   "cell_type": "markdown",
   "metadata": {},
   "source": [
    "### rbf kernel"
   ]
  },
  {
   "cell_type": "code",
   "execution_count": 16,
   "metadata": {},
   "outputs": [
    {
     "name": "stdout",
     "output_type": "stream",
     "text": [
      "min error with rbf kernel: 56.4\n"
     ]
    }
   ],
   "source": [
    "gamma = np.linspace(0.000001, 0.0005, 200)\n",
    "error = []\n",
    "for i in gamma:\n",
    "    clf = svm.SVC(kernel = 'rbf', C = 1e4, gamma = float(i))\n",
    "    error.append(cross_val(x, y, clf))\n",
    "print('min error with rbf kernel:', min(error))"
   ]
  },
  {
   "cell_type": "code",
   "execution_count": 19,
   "metadata": {},
   "outputs": [
    {
     "name": "stdout",
     "output_type": "stream",
     "text": [
      "min error: 56.4\n",
      "gamma when at min error: 1.3537688442211055e-05\n"
     ]
    },
    {
     "data": {
      "image/png": "[encoded data removed]",
      "text/plain": [
       "<Figure size 432x288 with 1 Axes>"
      ]
     },
     "metadata": {
      "needs_background": "light"
     },
     "output_type": "display_data"
    }
   ],
   "source": [
    "import matplotlib.pyplot as plt\n",
    "import math\n",
    "print('min error:', min(error))\n",
    "print('gamma when at min error:', gamma[error.index(min(error))])\n",
    "plt.scatter(gamma, error)\n",
    "plt.xlim((0.000001, 0.0005))\n",
    "plt.ylim((min(error) - 3, max(error)))\n",
    "plt.xlabel('parameter gamma')\n",
    "plt.ylabel('Residual Sum-of-Squares')\n",
    "plt.scatter(gamma[error.index(min(error))], min(error), c = 'r', s = 50)\n",
    "plt.show()"
   ]
  },
  {
   "cell_type": "markdown",
   "metadata": {},
   "source": [
    "### linear kernel"
   ]
  },
  {
   "cell_type": "code",
   "execution_count": 41,
   "metadata": {},
   "outputs": [
    {
     "name": "stdout",
     "output_type": "stream",
     "text": [
      "C: [ 1.  2.  3.  4.  5.  6.  7.  8.  9. 10. 11. 12. 13. 14. 15. 16. 17. 18.\n",
      " 19. 20. 21. 22. 23. 24. 25. 26. 27. 28. 29. 30. 31. 32. 33. 34. 35. 36.\n",
      " 37. 38. 39. 40. 41. 42. 43. 44. 45. 46. 47. 48. 49. 50.]\n",
      "error: [56.8, 54.8, 56.2, 55.0, 56.8, 56.2, 56.2, 56.0, 56.0, 55.6, 56.2, 55.6, 55.6, 55.8, 57.4, 58.4, 57.6, 56.6, 57.6, 57.8, 58.6, 58.4, 59.6, 59.4, 58.8, 57.4, 55.8, 56.0, 58.4, 55.8, 54.0, 56.6, 56.8, 58.0, 57.6, 58.6, 58.6, 58.8, 58.2, 58.2, 57.8, 57.8, 58.0, 59.6, 58.0, 59.8, 60.4, 60.2, 62.0, 60.0]\n",
      "min error with linear kernel: 54.0\n"
     ]
    }
   ],
   "source": [
    "C = np.linspace(1, 50, 50)\n",
    "error = []\n",
    "for i in C:\n",
    "    clf = svm.SVC(kernel = 'linear', C = i)\n",
    "    error.append(cross_val(x, y, clf))"
   ]
  },
  {
   "cell_type": "code",
   "execution_count": 42,
   "metadata": {},
   "outputs": [
    {
     "name": "stdout",
     "output_type": "stream",
     "text": [
      "min error: 54.0\n",
      "gamma when at min error: 31.0\n"
     ]
    },
    {
     "data": {
      "image/png": "[encoded data removed]",
      "text/plain": [
       "<Figure size 432x288 with 1 Axes>"
      ]
     },
     "metadata": {
      "needs_background": "light"
     },
     "output_type": "display_data"
    }
   ],
   "source": [
    "import matplotlib.pyplot as plt\n",
    "import math\n",
    "print('min error:', min(error))\n",
    "print('gamma when at min error:', C[error.index(min(error))])\n",
    "plt.scatter(C, error)\n",
    "plt.xlim((1, 50))\n",
    "plt.ylim((min(error) - 1, max(error) + 1))\n",
    "plt.xlabel('parameter C')\n",
    "plt.ylabel('Residual Sum-of-Squares')\n",
    "plt.scatter(C[error.index(min(error))], min(error), c = 'r', s = 50)\n",
    "plt.show()"
   ]
  },
  {
   "cell_type": "markdown",
   "metadata": {},
   "source": [
    "### poly kernel"
   ]
  },
  {
   "cell_type": "code",
   "execution_count": 9,
   "metadata": {},
   "outputs": [
    {
     "name": "stdout",
     "output_type": "stream",
     "text": [
      "min error with poly kernel: 61.0\n"
     ]
    }
   ],
   "source": [
    "degree = np.linspace(0, 12, 13)\n",
    "error = []\n",
    "for i in degree:\n",
    "    clf = svm.SVC(kernel = 'poly', C = 1e6, degree = i, gamma = 0.000001)\n",
    "    error.append(cross_val(x, y, clf))\n",
    "print('min error with poly kernel:', min(error))"
   ]
  },
  {
   "cell_type": "code",
   "execution_count": 10,
   "metadata": {},
   "outputs": [
    {
     "name": "stdout",
     "output_type": "stream",
     "text": [
      "min error: 61.0\n",
      "gamma when at min error: 2.0\n"
     ]
    },
    {
     "data": {
      "image/png": "[encoded data removed]",
      "text/plain": [
       "<Figure size 432x288 with 1 Axes>"
      ]
     },
     "metadata": {
      "needs_background": "light"
     },
     "output_type": "display_data"
    }
   ],
   "source": [
    "print('min error:', min(error))\n",
    "print('gamma when at min error:', degree[error.index(min(error))])\n",
    "plt.scatter(degree, error)\n",
    "plt.xlim((0, 12))\n",
    "plt.ylim((min(error), max(error)))\n",
    "plt.scatter(degree[error.index(min(error))], min(error), c = 'r', s = 100)\n",
    "plt.show()"
   ]
  },
  {
   "cell_type": "code",
   "execution_count": null,
   "metadata": {},
   "outputs": [],
   "source": []
  }
 ],
 "metadata": {
  "kernelspec": {
   "display_name": "Python 3",
   "language": "python",
   "name": "python3"
  },
  "language_info": {
   "codemirror_mode": {
    "name": "ipython",
    "version": 3
   },
   "file_extension": ".py",
   "mimetype": "text/x-python",
   "name": "python",
   "nbconvert_exporter": "python",
   "pygments_lexer": "ipython3",
   "version": "3.7.4"
  }
 },
 "nbformat": 4,
 "nbformat_minor": 2
}
