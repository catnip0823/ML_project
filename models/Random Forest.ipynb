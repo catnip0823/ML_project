{
 "cells": [
  {
   "cell_type": "code",
   "execution_count": 1,
   "metadata": {},
   "outputs": [],
   "source": [
    "import random\n",
    "import functions\n",
    "from sklearn import preprocessing\n",
    "\n",
    "test_size = 80\n",
    "test_list = random.sample(range(0, 500), test_size)\n",
    "test_list.sort()"
   ]
  },
  {
   "cell_type": "code",
   "execution_count": 2,
   "metadata": {},
   "outputs": [],
   "source": [
    "import csv\n",
    "\n",
    "train_matrix = []\n",
    "test_matrix = []\n",
    "train_label = []\n",
    "test_label = []\n",
    "\n",
    "with open('dataset/Admission_Predict_data/Admission_Predict_Ver1.1.csv', encoding='utf-8') as f:\n",
    "    reader = csv.reader(f)\n",
    "    header = next(reader) # title\n",
    "    index_test_list = 0\n",
    "    index_row_list = 0\n",
    "    for row in reader:\n",
    "        train_row = []\n",
    "        for i in range(1, len(row) - 1):\n",
    "            train_row.append(float(row[i]))\n",
    "        test_row = float(row[-1])\n",
    "        \n",
    "        if index_test_list < test_size and test_list[index_test_list] == index_row_list:\n",
    "            test_matrix.append(train_row)\n",
    "            test_label.append(test_row)\n",
    "            index_test_list += 1\n",
    "        else:\n",
    "            train_matrix.append(train_row)\n",
    "            train_label.append(test_row)\n",
    "        index_row_list += 1\n",
    "        "
   ]
  },
  {
   "cell_type": "markdown",
   "metadata": {},
   "source": [
    "# Random Forest"
   ]
  },
  {
   "cell_type": "code",
   "execution_count": 3,
   "metadata": {},
   "outputs": [],
   "source": [
    "import numpy as np\n",
    "x = np.array(train_matrix)\n",
    "x = preprocessing.scale(x) # normalize\n",
    "y = np.array(train_label)\n",
    "x_test = np.array(test_matrix)\n",
    "x_test = preprocessing.scale(x_test) # normalize"
   ]
  },
  {
   "cell_type": "code",
   "execution_count": 4,
   "metadata": {},
   "outputs": [],
   "source": [
    "from sklearn.model_selection import KFold\n",
    "\n",
    "def cross_val(data, label, model):\n",
    "    kfold = KFold(n_splits = 5, shuffle = False)\n",
    "    index = kfold.split(X = data, y = label)\n",
    "    cross_val_error = []\n",
    "    for train_index, test_index in index:\n",
    "        model.fit(data[train_index], label[train_index]) # train\n",
    "        y_pred = model.predict(data[test_index]) # predict\n",
    "        error = functions.RSS(y_pred, label[test_index]) # error\n",
    "        cross_val_error.append(error)\n",
    "    exp_error = sum(cross_val_error)/len(cross_val_error)\n",
    "    return exp_error"
   ]
  },
  {
   "cell_type": "markdown",
   "metadata": {},
   "source": [
    "## parameter n_estimators"
   ]
  },
  {
   "cell_type": "code",
   "execution_count": 5,
   "metadata": {},
   "outputs": [],
   "source": [
    "from sklearn.ensemble import RandomForestRegressor\n",
    "import datetime\n",
    "\n",
    "n_estimators = np.linspace(1, 100, 100)\n",
    "error = []\n",
    "time = []\n",
    "for i in n_estimators:\n",
    "    starttime = datetime.datetime.now()\n",
    "    rfc = RandomForestRegressor(n_estimators = int(i))\n",
    "    error.append(cross_val(x, y, rfc))\n",
    "    endtime = datetime.datetime.now()\n",
    "    time.append((endtime - starttime).microseconds)"
   ]
  },
  {
   "cell_type": "code",
   "execution_count": 7,
   "metadata": {},
   "outputs": [
    {
     "name": "stdout",
     "output_type": "stream",
     "text": [
      "min error: 0.3796589349112425\n",
      "n_estimators when at min error: 13\n"
     ]
    },
    {
     "data": {
      "image/png": "[encoded data removed]",
      "text/plain": [
       "<Figure size 432x288 with 1 Axes>"
      ]
     },
     "metadata": {
      "needs_background": "light"
     },
     "output_type": "display_data"
    },
    {
     "data": {
      "image/png": "[encoded data removed]",
      "text/plain": [
       "<Figure size 432x288 with 1 Axes>"
      ]
     },
     "metadata": {
      "needs_background": "light"
     },
     "output_type": "display_data"
    }
   ],
   "source": [
    "import matplotlib.pyplot as plt\n",
    "import math\n",
    "print('min error:', min(error))\n",
    "print('n_estimators when at min error:', error.index(min(error)) + 1)\n",
    "plt.scatter(n_estimators, error)\n",
    "plt.scatter(error.index(min(error)) + 1, min(error), c = 'r')\n",
    "plt.xlabel('parameter n_estimators')\n",
    "plt.ylabel('Residual Sum-of-Squares')\n",
    "plt.show()\n",
    "\n",
    "plt.scatter(n_estimators, time)\n",
    "plt.xlabel('parameter n_estimators')\n",
    "plt.ylabel('time / microsecond')\n",
    "plt.show()"
   ]
  },
  {
   "cell_type": "code",
   "execution_count": 8,
   "metadata": {},
   "outputs": [
    {
     "name": "stdout",
     "output_type": "stream",
     "text": [
      "Random forest accuracy 0.777281233584238\n"
     ]
    }
   ],
   "source": [
    "from sklearn.metrics import r2_score\n",
    "\n",
    "rfc = RandomForestRegressor(n_estimators = error.index(min(error)) + 1)\n",
    "kfold = KFold(n_splits = 5, shuffle = False)\n",
    "index = kfold.split(X = x, y = y)\n",
    "for train_index, test_index in index:\n",
    "    rfc.fit(x[train_index], y[train_index]) # train\n",
    "    y_pred = rfc.predict(x[test_index]) # predict\n",
    "    accuracy = r2_score(list(y_pred), list(y[test_index]))\n",
    "print('Random forest accuracy', accuracy)\n",
    "best_n_estimators = error.index(min(error)) + 1"
   ]
  },
  {
   "cell_type": "markdown",
   "metadata": {},
   "source": [
    "## parameter max_depth"
   ]
  },
  {
   "cell_type": "code",
   "execution_count": 9,
   "metadata": {},
   "outputs": [],
   "source": [
    "def cross_val_score(data, label, model):\n",
    "    kfold = KFold(n_splits = 5, shuffle = False)\n",
    "    index = kfold.split(X = data, y = label)\n",
    "    cross_val_train_score = []\n",
    "    cross_val_test_score = []\n",
    "    for train_index, test_index in index:\n",
    "        model.fit(data[train_index], label[train_index]) # train\n",
    "        cross_val_train_score.append(model.score(data[train_index], label[train_index]))\n",
    "        cross_val_test_score.append(model.score(data[test_index], label[test_index]))\n",
    "    train_score = sum(cross_val_train_score)/len(cross_val_train_score)\n",
    "    test_score = sum(cross_val_test_score)/len(cross_val_test_score)\n",
    "    return train_score, test_score"
   ]
  },
  {
   "cell_type": "code",
   "execution_count": 10,
   "metadata": {},
   "outputs": [],
   "source": [
    "from sklearn.ensemble import RandomForestRegressor\n",
    "\n",
    "max_depth = np.linspace(1, 20, 20)\n",
    "train_score = []\n",
    "test_score = []\n",
    "for i in max_depth:\n",
    "    rfc = RandomForestRegressor(n_estimators = best_n_estimators, max_depth = int(i))\n",
    "    endtime = datetime.datetime.now()\n",
    "    train_score.append(cross_val_score(x, y, rfc)[0])\n",
    "    test_score.append(cross_val_score(x, y, rfc)[1])"
   ]
  },
  {
   "cell_type": "code",
   "execution_count": 11,
   "metadata": {},
   "outputs": [
    {
     "name": "stdout",
     "output_type": "stream",
     "text": [
      "max validation score: 0.7859962050561966\n",
      "max_depth when at min error: 4\n"
     ]
    },
    {
     "data": {
      "image/png": "[encoded data removed]",
      "text/plain": [
       "<Figure size 432x288 with 1 Axes>"
      ]
     },
     "metadata": {
      "needs_background": "light"
     },
     "output_type": "display_data"
    }
   ],
   "source": [
    "import matplotlib.pyplot as plt\n",
    "import math\n",
    "print('max validation score:', max(test_score))\n",
    "print('max_depth when at min error:', test_score.index(max(test_score)) + 1)\n",
    "plt.scatter(max_depth, train_score, label = \"train\")\n",
    "plt.scatter(max_depth, test_score, label = \"validation\")\n",
    "plt.legend()\n",
    "plt.xlabel('parameter max_depth')\n",
    "plt.ylabel('score of train and test data')\n",
    "plt.show()\n",
    "best_max_depth = test_score.index(max(test_score)) + 1;"
   ]
  },
  {
   "cell_type": "code",
   "execution_count": 12,
   "metadata": {},
   "outputs": [
    {
     "name": "stdout",
     "output_type": "stream",
     "text": [
      "Random forest accuracy 0.8302873733739282\n"
     ]
    }
   ],
   "source": [
    "from sklearn.metrics import r2_score\n",
    "\n",
    "rfc = RandomForestRegressor(n_estimators = best_n_estimators, max_depth = best_max_depth)\n",
    "kfold = KFold(n_splits = 5, shuffle = False)\n",
    "index = kfold.split(X = x, y = y)\n",
    "for train_index, test_index in index:\n",
    "    rfc.fit(x[train_index], y[train_index]) # train\n",
    "    y_pred = rfc.predict(x[test_index]) # predict\n",
    "    accuracy = r2_score(list(y_pred), list(y[test_index]))\n",
    "print('Random forest accuracy', accuracy)"
   ]
  },
  {
   "cell_type": "code",
   "execution_count": null,
   "metadata": {},
   "outputs": [],
   "source": []
  }
 ],
 "metadata": {
  "kernelspec": {
   "display_name": "Python 3",
   "language": "python",
   "name": "python3"
  },
  "language_info": {
   "codemirror_mode": {
    "name": "ipython",
    "version": 3
   },
   "file_extension": ".py",
   "mimetype": "text/x-python",
   "name": "python",
   "nbconvert_exporter": "python",
   "pygments_lexer": "ipython3",
   "version": "3.7.5"
  }
 },
 "nbformat": 4,
 "nbformat_minor": 2
}
