{
 "cells": [
  {
   "cell_type": "code",
   "execution_count": 1,
   "metadata": {},
   "outputs": [],
   "source": [
    "import random\n",
    "from sklearn import preprocessing\n",
    "test_size = 80\n",
    "test_list = random.sample(range(0, 500), test_size)\n",
    "test_list.sort()"
   ]
  },
  {
   "cell_type": "code",
   "execution_count": 2,
   "metadata": {},
   "outputs": [],
   "source": [
    "import functions"
   ]
  },
  {
   "cell_type": "code",
   "execution_count": 3,
   "metadata": {},
   "outputs": [],
   "source": [
    "import csv\n",
    "\n",
    "train_matrix = []\n",
    "test_matrix = []\n",
    "train_label = []\n",
    "test_label = []\n",
    "\n",
    "with open('dataset/Admission_Predict_data/Admission_Predict_Ver1.1.csv', encoding='utf-8') as f:\n",
    "    reader = csv.reader(f)\n",
    "    header = next(reader) # title\n",
    "    index_test_list = 0\n",
    "    index_row_list = 0\n",
    "    for row in reader:\n",
    "        train_row = []\n",
    "        for i in range(1, len(row) - 1):\n",
    "            train_row.append(float(row[i]))\n",
    "        test_row = float(row[-1])\n",
    "        test_row = int(round(test_row * 10))\n",
    "        \n",
    "        if index_test_list < test_size and test_list[index_test_list] == index_row_list:\n",
    "            test_matrix.append(train_row)\n",
    "            test_label.append(test_row)\n",
    "            index_test_list += 1\n",
    "        else:\n",
    "            train_matrix.append(train_row)\n",
    "            train_label.append(test_row)\n",
    "        index_row_list += 1\n",
    "        "
   ]
  },
  {
   "cell_type": "code",
   "execution_count": 4,
   "metadata": {},
   "outputs": [],
   "source": [
    "import numpy as np\n",
    "x = np.array(train_matrix)\n",
    "x = preprocessing.scale(x) # normalize\n",
    "y = np.array(train_label)\n",
    "x_test = np.array(test_matrix)\n",
    "x_test = preprocessing.scale(x_test) # normalize\n",
    "y_test = np.array(test_label)"
   ]
  },
  {
   "cell_type": "code",
   "execution_count": 6,
   "metadata": {},
   "outputs": [
    {
     "name": "stdout",
     "output_type": "stream",
     "text": [
      "algorithm: LDA\n",
      "val accuracy: 0.7023809523809523\n",
      "test accuracy: 0.475\n",
      "time: 1400 microsecond\n",
      "\n",
      "algorithm: Naive Bayes(Gaussian)\n",
      "val accuracy: 0.6071428571428571\n",
      "test accuracy: 0.4625\n",
      "time: 1599 microsecond\n",
      "\n",
      "algorithm: Logistic(l1-penalty)\n",
      "val accuracy: 0.5\n",
      "test accuracy: 0.45\n",
      "time: 4017 microsecond\n",
      "\n"
     ]
    }
   ],
   "source": [
    "from sklearn.metrics import accuracy_score\n",
    "from sklearn.model_selection import KFold\n",
    "import datetime\n",
    "\n",
    "from sklearn.discriminant_analysis import LinearDiscriminantAnalysis\n",
    "from sklearn.naive_bayes import GaussianNB\n",
    "from sklearn.linear_model import LogisticRegression\n",
    "\n",
    "\n",
    "\n",
    "algorithm_name = ['LDA', 'Naive Bayes(Gaussian)', 'Logistic(l1-penalty)']\n",
    "algorithm = []\n",
    "algorithm.append(LinearDiscriminantAnalysis(solver = 'svd'))\n",
    "algorithm.append(GaussianNB())\n",
    "algorithm.append(LogisticRegression(multi_class = 'ovr', solver = 'liblinear', penalty = 'l1'))\n",
    "\n",
    "\n",
    "\n",
    "for i in range(len(algorithm_name)):\n",
    "    kfold = KFold(n_splits = 5, shuffle = False)\n",
    "    index = kfold.split(X = x, y = y)\n",
    "    for train_index, val_index in index:\n",
    "        starttime = datetime.datetime.now()\n",
    "        algorithm[i].fit(x[train_index], y[train_index]) # train\n",
    "        y_pred = algorithm[i].predict(x[val_index]) # predict\n",
    "        accuracy1 = accuracy_score(list(y_pred), list(y[val_index]))\n",
    "        y_pred = algorithm[i].predict(x_test) # predict\n",
    "        accuracy = accuracy_score(list(y_pred), list(y_test))\n",
    "        endtime = datetime.datetime.now()\n",
    "        time = (endtime - starttime).microseconds\n",
    "    print('algorithm:', algorithm_name[i])\n",
    "    print(\"val accuracy:\", accuracy1)\n",
    "    print(\"test accuracy:\", accuracy)\n",
    "    print(\"time:\", time, 'microsecond')\n",
    "    print()"
   ]
  },
  {
   "cell_type": "code",
   "execution_count": null,
   "metadata": {},
   "outputs": [],
   "source": []
  }
 ],
 "metadata": {
  "kernelspec": {
   "display_name": "Python 3",
   "language": "python",
   "name": "python3"
  },
  "language_info": {
   "codemirror_mode": {
    "name": "ipython",
    "version": 3
   },
   "file_extension": ".py",
   "mimetype": "text/x-python",
   "name": "python",
   "nbconvert_exporter": "python",
   "pygments_lexer": "ipython3",
   "version": "3.7.4"
  }
 },
 "nbformat": 4,
 "nbformat_minor": 2
}
