{
 "cells": [
  {
   "cell_type": "code",
   "execution_count": 1,
   "metadata": {},
   "outputs": [],
   "source": [
    "import random\n",
    "from sklearn import preprocessing\n",
    "test_size = 80\n",
    "test_list = random.sample(range(0, 500), test_size)\n",
    "test_list.sort()"
   ]
  },
  {
   "cell_type": "code",
   "execution_count": 2,
   "metadata": {},
   "outputs": [],
   "source": [
    "import functions"
   ]
  },
  {
   "cell_type": "code",
   "execution_count": 3,
   "metadata": {},
   "outputs": [],
   "source": [
    "import csv\n",
    "\n",
    "train_matrix = []\n",
    "test_matrix = []\n",
    "train_label = []\n",
    "test_label = []\n",
    "\n",
    "with open('dataset/Admission_Predict_data/Admission_Predict_Ver1.1.csv', encoding='utf-8') as f:\n",
    "    reader = csv.reader(f)\n",
    "    header = next(reader) # title\n",
    "    index_test_list = 0\n",
    "    index_row_list = 0\n",
    "    for row in reader:\n",
    "        train_row = []\n",
    "        for i in range(1, len(row) - 1):\n",
    "            train_row.append(float(row[i]))\n",
    "        test_row = float(row[-1])\n",
    "#         test_row = int(round(test_row * 10))\n",
    "        \n",
    "        if index_test_list < test_size and test_list[index_test_list] == index_row_list:\n",
    "            test_matrix.append(train_row)\n",
    "            test_label.append(test_row)\n",
    "            index_test_list += 1\n",
    "        else:\n",
    "            train_matrix.append(train_row)\n",
    "            train_label.append(test_row)\n",
    "        index_row_list += 1\n",
    "        "
   ]
  },
  {
   "cell_type": "code",
   "execution_count": 4,
   "metadata": {},
   "outputs": [],
   "source": [
    "import numpy as np\n",
    "x = np.array(train_matrix)\n",
    "x = preprocessing.scale(x) # normalize\n",
    "y = np.array(train_label)\n",
    "x_test = np.array(test_matrix)\n",
    "x_test = preprocessing.scale(x_test) # normalize\n",
    "y_test = np.array(test_label)"
   ]
  },
  {
   "cell_type": "code",
   "execution_count": 8,
   "metadata": {},
   "outputs": [
    {
     "name": "stdout",
     "output_type": "stream",
     "text": [
      "algorithm: Regression(Lasso)\n",
      "val accuracy: 0.8738828249546642\n",
      "test accuracy: 0.7022287381311951\n",
      "time: 1293 microsecond\n",
      "\n",
      "algorithm: KNN\n",
      "val accuracy: 0.7490200915271561\n",
      "test accuracy: 0.5915101043968477\n",
      "time: 3089 microsecond\n",
      "\n",
      "algorithm: Decision Tree\n",
      "val accuracy: 0.7509107706271654\n",
      "test accuracy: 0.5047546001797985\n",
      "time: 867 microsecond\n",
      "\n",
      "algorithm: SVM(Linear)\n",
      "val accuracy: 0.7614501470481322\n",
      "test accuracy: 0.48550512909194643\n",
      "time: 3122 microsecond\n",
      "\n",
      "algorithm: AdaBoost\n",
      "val accuracy: 0.8300361088173068\n",
      "test accuracy: 0.6281129290522577\n",
      "time: 9639 microsecond\n",
      "\n",
      "algorithm: Random Forest\n",
      "val accuracy: 0.8308416162082917\n",
      "test accuracy: 0.6610644752514727\n",
      "time: 11593 microsecond\n",
      "\n"
     ]
    }
   ],
   "source": [
    "from sklearn.metrics import r2_score\n",
    "from sklearn.model_selection import KFold\n",
    "import datetime\n",
    "\n",
    "from sklearn import linear_model\n",
    "from sklearn.neighbors import KNeighborsRegressor\n",
    "from sklearn.tree import DecisionTreeRegressor\n",
    "from sklearn import svm\n",
    "from sklearn.ensemble import AdaBoostRegressor\n",
    "from sklearn.ensemble import RandomForestRegressor\n",
    "\n",
    "\n",
    "algorithm_name = ['Regression(Lasso)', 'KNN', 'Decision Tree', 'SVM(Linear)', 'AdaBoost', 'Random Forest']\n",
    "algorithm = []\n",
    "algorithm.append(linear_model.Lasso(alpha = 0.00114115))\n",
    "algorithm.append(KNeighborsRegressor(n_neighbors = 31))\n",
    "algorithm.append(DecisionTreeRegressor(max_depth = 4))\n",
    "algorithm.append(svm.SVR(kernel = 'linear', C = 0.0918484848484))\n",
    "algorithm.append(AdaBoostRegressor(n_estimators = 10))\n",
    "algorithm.append(RandomForestRegressor(n_estimators = 13, max_depth = 4))\n",
    "\n",
    "\n",
    "for i in range(len(algorithm_name)):\n",
    "    kfold = KFold(n_splits = 5, shuffle = False)\n",
    "    index = kfold.split(X = x, y = y)\n",
    "    for train_index, val_index in index:\n",
    "        starttime = datetime.datetime.now()\n",
    "        algorithm[i].fit(x[train_index], y[train_index]) # train\n",
    "        y_pred = algorithm[i].predict(x[val_index]) # predict\n",
    "        accuracy1 = r2_score(list(y_pred), list(y[val_index]))\n",
    "        y_pred = algorithm[i].predict(x_test) # predict\n",
    "        accuracy = r2_score(list(y_pred), list(y_test))\n",
    "        endtime = datetime.datetime.now()\n",
    "        time = (endtime - starttime).microseconds\n",
    "    print('algorithm:', algorithm_name[i])\n",
    "    print(\"val accuracy:\", accuracy1)\n",
    "    print(\"test accuracy:\", accuracy)\n",
    "    print(\"time:\", time, 'microsecond')\n",
    "    print()"
   ]
  },
  {
   "cell_type": "code",
   "execution_count": null,
   "metadata": {},
   "outputs": [],
   "source": []
  }
 ],
 "metadata": {
  "kernelspec": {
   "display_name": "Python 3",
   "language": "python",
   "name": "python3"
  },
  "language_info": {
   "codemirror_mode": {
    "name": "ipython",
    "version": 3
   },
   "file_extension": ".py",
   "mimetype": "text/x-python",
   "name": "python",
   "nbconvert_exporter": "python",
   "pygments_lexer": "ipython3",
   "version": "3.7.4"
  }
 },
 "nbformat": 4,
 "nbformat_minor": 2
}
